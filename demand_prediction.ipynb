{
 "cells": [
  {
   "cell_type": "code",
   "execution_count": 7,
   "id": "flexible-former",
   "metadata": {},
   "outputs": [
    {
     "name": "stdout",
     "output_type": "stream",
     "text": [
      "travelling_proportion 0.05276225712084417\n",
      "tempC 0.06302925040556868\n",
      "precipMM -0.028501914864441133\n",
      "station_count 0.022658104563541587\n",
      "count_commercial 0.07006258552857295\n",
      "count_retail -0.05163095231306766\n",
      "cover_commercial 0.027629141966347377\n",
      "cover_retail -0.02597294975653672\n",
      "distance_to_recreation_ground -0.04167588480614267\n",
      "distance_to_park 0.015645291825619738\n",
      "distance_to_retail 0.053876787208506194\n",
      "distance_to_commercial -0.07695588046834914\n",
      "cycleway_connectivity -0.0335832683538276\n",
      "tertiary_connectivity -0.04848694734117437\n",
      "secondary_connectivity nan\n",
      "tourist_attractions nan\n",
      "node_id -0.04344685301296988\n",
      "hour 0.1703446562796425\n",
      "minute nan\n",
      "day 0.021953939404900535\n",
      "month 0.017539331934698497\n"
     ]
    },
    {
     "name": "stderr",
     "output_type": "stream",
     "text": [
      "/Users/kehindeowoeye/opt/miniconda3/lib/python3.8/site-packages/scipy/stats/stats.py:3845: PearsonRConstantInputWarning: An input array is constant; the correlation coefficent is not defined.\n",
      "  warnings.warn(PearsonRConstantInputWarning())\n"
     ]
    }
   ],
   "source": [
    "import math\n",
    "import pandas as pd\n",
    "import numpy as np\n",
    "import datetime \n",
    "from scipy.stats import pearsonr\n",
    "from sklearn.linear_model import LinearRegression\n",
    "from sklearn.gaussian_process import GaussianProcessRegressor\n",
    "from sklearn.metrics import mean_squared_error\n",
    "from sklearn.preprocessing import StandardScaler\n",
    "\n",
    "\n",
    "\n",
    "\n",
    "df_train = pd.read_csv('train.csv')#loads training data\n",
    "\n",
    "df_train_target = df_train['demand']#loads target labels into a new variable\n",
    "df_train = df_train.drop(columns=['demand'])#drops this column \n",
    "df_train['timestamp'] = pd.to_datetime(df_train['timestamp'],dayfirst=True)\n",
    "\n",
    "#extracts date and time features for training data\n",
    "df_train['hour'] = df_train['timestamp'].dt.hour\n",
    "df_train['minute'] = df_train['timestamp'].dt.minute\n",
    "df_train['day'] = df_train['timestamp'].dt.day\n",
    "df_train['month'] = df_train['timestamp'].dt.month\n",
    "df_train = df_train.drop(columns=['timestamp'])\n",
    "\n",
    "\n",
    "# exploration using correlation coefficient\n",
    "for i in range(1, df_train.shape[1]):\n",
    "    corr, _ = pearsonr(df_train[df_train.columns[i]], df_train_target)\n",
    "    print(df_train.columns[i],corr)\n",
    "    \n",
    "#drops the features/columns that are not useful    \n",
    "df_train = df_train.drop(columns=['minute'])\n",
    "df_train = df_train.drop(columns=['tourist_attractions'])\n",
    "df_train = df_train.drop(columns=['secondary_connectivity'])\n",
    "\n",
    "\n",
    "scal = StandardScaler()\n",
    "df_train = scal.fit_transform(df_train)#Normalize train data\n",
    "\n",
    "gpr = GaussianProcessRegressor(\n",
    "    random_state=0).fit(df_train, df_train_target)#inference using gaussian process with a gaussian kernel.\n",
    "\n",
    "\n",
    "\n",
    "\n",
    "df_test = pd.read_csv('test.csv')#Loads test data\n",
    "\n",
    "#extracts date and time features for test data\n",
    "df_test['timestamp'] = pd.to_datetime(df_test['timestamp'], dayfirst=True)\n",
    "df_test['hour'] = df_test['timestamp'].dt.hour\n",
    "df_test['day'] = df_test['timestamp'].dt.day\n",
    "df_test['month'] = df_test['timestamp'].dt.month\n",
    "df_test = df_test.drop(columns=['timestamp'])\n",
    "\n",
    "#drops the features/columns that are not useful  based on the exploration using training data\n",
    "df_test = df_test.drop(columns=['tourist_attractions'])\n",
    "df_test = df_test.drop(columns=['secondary_connectivity'])\n",
    "\n",
    "\n",
    "\n",
    "df_test = scal.transform(df_test)#Normalize test data\n",
    "test_result = gpr.predict(df_test,return_std=True)#prediction using already trained model\n",
    "\n",
    "\n",
    "\n",
    "df_test = pd.read_csv('test.csv')#load test data so as to attach the results\n",
    "df_test['demand'] = pd.Series(np.abs(test_result[0]))# add new column for the prediction result--reporting the absolute value since demand can't be negative\n",
    "df_test.to_csv('test_with_result.csv')# write to a csv file\n"
   ]
  },
  {
   "cell_type": "code",
   "execution_count": null,
   "id": "experienced-stereo",
   "metadata": {},
   "outputs": [],
   "source": []
  }
 ],
 "metadata": {
  "kernelspec": {
   "display_name": "Python 3",
   "language": "python",
   "name": "python3"
  },
  "language_info": {
   "codemirror_mode": {
    "name": "ipython",
    "version": 3
   },
   "file_extension": ".py",
   "mimetype": "text/x-python",
   "name": "python",
   "nbconvert_exporter": "python",
   "pygments_lexer": "ipython3",
   "version": "3.8.5"
  }
 },
 "nbformat": 4,
 "nbformat_minor": 5
}
